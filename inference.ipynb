{
 "cells": [
  {
   "cell_type": "code",
   "execution_count": 1,
   "metadata": {},
   "outputs": [
    {
     "name": "stderr",
     "output_type": "stream",
     "text": [
      "/home/bitzerxiao/miniforge3/envs/torch/lib/python3.10/site-packages/tqdm/auto.py:21: TqdmWarning: IProgress not found. Please update jupyter and ipywidgets. See https://ipywidgets.readthedocs.io/en/stable/user_install.html\n",
      "  from .autonotebook import tqdm as notebook_tqdm\n"
     ]
    }
   ],
   "source": [
    "import os\n",
    "import numpy as np\n",
    "from PIL import Image\n",
    "from storyart.novel2img import Novel2Img"
   ]
  },
  {
   "cell_type": "code",
   "execution_count": 2,
   "metadata": {},
   "outputs": [],
   "source": [
    "with open(\"tmp/inputs/test.txt\", \"r\") as f:\n",
    "    lines = f.readlines()\n",
    "f.close()\n",
    "history = list(map(lambda x: x.strip(), lines))\n",
    "line = history[-1]"
   ]
  },
  {
   "cell_type": "code",
   "execution_count": 3,
   "metadata": {},
   "outputs": [
    {
     "name": "stdout",
     "output_type": "stream",
     "text": [
      "\u001b[92m[2024-12-02 16:41:02] start init\u001b[0m\n"
     ]
    },
    {
     "name": "stderr",
     "output_type": "stream",
     "text": [
      "Loading checkpoint shards: 100%|██████████| 2/2 [00:04<00:00,  2.13s/it]s/it]\n",
      "Loading pipeline components...:  57%|█████▋    | 4/7 [00:15<00:07,  2.66s/it]You set `add_prefix_space`. The tokenizer needs to be converted from the slow tokenizers\n",
      "Loading pipeline components...: 100%|██████████| 7/7 [00:15<00:00,  2.26s/it]\n"
     ]
    },
    {
     "name": "stdout",
     "output_type": "stream",
     "text": [
      "\u001b[92m[2024-12-02 16:41:35] finished load img_model\u001b[0m\n"
     ]
    },
    {
     "name": "stderr",
     "output_type": "stream",
     "text": [
      "Loading checkpoint shards: 100%|██████████| 2/2 [00:01<00:00,  1.68it/s]\n"
     ]
    },
    {
     "name": "stdout",
     "output_type": "stream",
     "text": [
      "\u001b[92m[2024-12-02 16:41:39] finished load text_model\u001b[0m\n"
     ]
    }
   ],
   "source": [
    "img_model_path = \"/dataX/yiyong/checkpoints/FLUX.1-dev\"\n",
    "text_model_path = \"/data1/yiyong/checkpoints/Qwen2.5-3B-Instruct\"\n",
    "config_path = \"/home/bitzerxiao/project/StoryArt/storyart/configs\"\n",
    "model = Novel2Img(img_path=img_model_path, img_device=\"cuda:0\", text_device=\"cuda:0\", text_path=text_model_path, config_path=config_path, lowvarm=True)"
   ]
  },
  {
   "cell_type": "code",
   "execution_count": 4,
   "metadata": {},
   "outputs": [
    {
     "name": "stderr",
     "output_type": "stream",
     "text": [
      "The attention mask is not set and cannot be inferred from input because pad token is same as eos token. As a consequence, you may observe unexpected behavior. Please pass your input's `attention_mask` to obtain reliable results.\n"
     ]
    },
    {
     "name": "stdout",
     "output_type": "stream",
     "text": [
      "\u001b[92m[2024-12-02 16:41:40] info extract: {\"character\": \"苏暖暖\", \"scene\": \"杂志\"}\u001b[0m\n"
     ]
    }
   ],
   "source": [
    "info = model.info_extract(line=history[-2], novel=\"\\n\".join(history[:-1]))"
   ]
  },
  {
   "cell_type": "code",
   "execution_count": 5,
   "metadata": {},
   "outputs": [
    {
     "name": "stdout",
     "output_type": "stream",
     "text": [
      "\u001b[92m[2024-12-02 16:41:42] character setting: {\"sex\": \"young woman\", \"hair\": \"brown wavy hair\", \"clothes\": \"blue jeans and a red sweater\"}\u001b[0m\n",
      "\u001b[92m[2024-12-02 16:41:42] sucess setting 苏暖暖 -> 人,young woman,,brown wavy hair,blue jeans and a red sweater,solo,masterpiece,best quality,very aesthetic,absurdres\u001b[0m\n",
      "\u001b[92m[2024-12-02 16:41:43] scene setting: {\"image_prompt\":\"magazine on a wooden table with glossy images and smooth paper\"} # english\u001b[0m\n",
      "\u001b[92m[2024-12-02 16:41:43] error scene predict\u001b[0m\n",
      "\u001b[92m[2024-12-02 16:41:44] pose predict: {\"answer\": \"dance\"}\u001b[0m\n"
     ]
    }
   ],
   "source": [
    "describe = model.word2describe(info, line, context=\"现代\", novel=\"\\n\".join(history))"
   ]
  },
  {
   "cell_type": "code",
   "execution_count": 6,
   "metadata": {},
   "outputs": [],
   "source": [
    "model.name_to_sex = {}"
   ]
  },
  {
   "cell_type": "code",
   "execution_count": null,
   "metadata": {},
   "outputs": [],
   "source": [
    "width, height = 832, 1216\n",
    "batch_size = 2\n",
    "imgs = model.describe2imgs(describe=describe, batch_size=batch_size, height=height, width=width, steps=20)\n",
    "\n",
    "result_image = Image.new('RGB', (width*batch_size, height)) \n",
    "\n",
    "y = 0\n",
    "x = 0\n",
    "for i in range(batch_size):\n",
    "    image = Image.fromarray(imgs[i])\n",
    "    result_image.paste(image.resize((width,height)),(x,y))\n",
    "    x += width\n",
    "result_image"
   ]
  }
 ],
 "metadata": {
  "kernelspec": {
   "display_name": "torch",
   "language": "python",
   "name": "python3"
  },
  "language_info": {
   "codemirror_mode": {
    "name": "ipython",
    "version": 3
   },
   "file_extension": ".py",
   "mimetype": "text/x-python",
   "name": "python",
   "nbconvert_exporter": "python",
   "pygments_lexer": "ipython3",
   "version": "3.10.14"
  }
 },
 "nbformat": 4,
 "nbformat_minor": 2
}
